{
 "cells": [
  {
   "cell_type": "code",
   "execution_count": 10,
   "metadata": {},
   "outputs": [
    {
     "name": "stdout",
     "output_type": "stream",
     "text": [
      "Hostname: GJK-X13\n"
     ]
    }
   ],
   "source": [
    "import socket\n",
    "\n",
    "hostname = socket.gethostname()\n",
    "print(\"Hostname:\", hostname)"
   ]
  },
  {
   "attachments": {},
   "cell_type": "markdown",
   "metadata": {},
   "source": [
    "### sender socket"
   ]
  },
  {
   "cell_type": "code",
   "execution_count": 18,
   "metadata": {},
   "outputs": [],
   "source": [
    "import socket\n",
    "\n",
    "def send_hello(ip_address, port):\n",
    "    # Create a socket object\n",
    "    s = socket.socket()\n",
    "\n",
    "    # Connect to the IP address and port\n",
    "    s.connect((ip_address, port))\n",
    "\n",
    "    # Send the \"Hello, world!\" string to the receiver\n",
    "    message = \"Hello, world!\".encode()\n",
    "    s.send(message)\n",
    "\n",
    "    # Wait for the acknowledgement from the receiver\n",
    "    ack = s.recv(1024)\n",
    "\n",
    "    # Close the socket connection\n",
    "    s.close()\n"
   ]
  },
  {
   "attachments": {},
   "cell_type": "markdown",
   "metadata": {},
   "source": [
    "### reciever socket"
   ]
  },
  {
   "cell_type": "code",
   "execution_count": 16,
   "metadata": {},
   "outputs": [],
   "source": [
    "import socket\n",
    "\n",
    "def receive_hello(port):\n",
    "    # Create a socket object\n",
    "    s = socket.socket()\n",
    "\n",
    "    # Bind the socket to a local host and port\n",
    "    s.bind((\"\", port))\n",
    "\n",
    "    # Listen for incoming connections\n",
    "    s.listen(1)\n",
    "\n",
    "    # Accept the connection from the sender\n",
    "    conn, addr = s.accept()\n",
    "\n",
    "    # Receive the \"Hello, world!\" string from the sender\n",
    "    message = conn.recv(1024).decode()\n",
    "    print(message)\n",
    "\n",
    "    # Send an acknowledgement back to the sender\n",
    "    ack = \"ACK\".encode()\n",
    "    conn.send(ack)\n",
    "\n",
    "    # Close the socket connection\n",
    "    conn.close()\n",
    "    s.close()\n"
   ]
  },
  {
   "cell_type": "code",
   "execution_count": null,
   "metadata": {},
   "outputs": [],
   "source": [
    "import subprocess\n",
    "arp_output = subprocess.check_output([\"arp\", \"-a\"])\n",
    "encodings = [\"utf-8\", \"latin-1\", \"iso-8859-1\"]\n",
    "print(\"IP Address\\t\\tMAC Address\")\n",
    "for encoding in encodings:\n",
    "    try:\n",
    "        output = arp_output.decode(encoding)\n",
    "    except UnicodeDecodeError:\n",
    "        continue\n",
    "    else:\n",
    "        break\n",
    "print(output)\n"
   ]
  },
  {
   "cell_type": "markdown",
   "metadata": {},
   "source": []
  },
  {
   "cell_type": "code",
   "execution_count": 14,
   "metadata": {},
   "outputs": [],
   "source": [
    "import subprocess\n",
    "def format_mac_address(mac_address):\n",
    "    # Replace \":\" with \"-\"\n",
    "    formatted_mac_address = mac_address.replace(\":\", \"-\")\n",
    "    return formatted_mac_address\n",
    "def get_ip_from_mac(mac_address):\n",
    "    # Run the arp command to query the ARP cache\n",
    "    arp_output = subprocess.check_output([\"arp\", \"-a\"])\n",
    "\n",
    "    # Try decoding the output using different encodings\n",
    "    encodings = [\"utf-8\", \"latin-1\", \"iso-8859-1\"]\n",
    "    for encoding in encodings:\n",
    "        try:\n",
    "            arp_output = arp_output.decode(encoding)\n",
    "            break\n",
    "        except UnicodeDecodeError:\n",
    "            pass\n",
    "\n",
    "    # Search for the MAC address in the output\n",
    "    mac_address = format_mac_address(mac_address)\n",
    "    if mac_address in arp_output:\n",
    "        # Extract the IP address from the output\n",
    "        ip_address = arp_output.split(mac_address)[0].split()[-1]\n",
    "        return ip_address\n",
    "    else:\n",
    "        return None\n"
   ]
  },
  {
   "cell_type": "code",
   "execution_count": 21,
   "metadata": {},
   "outputs": [
    {
     "name": "stdout",
     "output_type": "stream",
     "text": [
      "find devices ip address 192.168.137.187\n"
     ]
    }
   ],
   "source": [
    "# get ip from mac\n",
    "ip=get_ip_from_mac(\"8c:85:90:56:c9:61\")\n",
    "if ip is not None:\n",
    "    print(\"find devices ip address\", ip)\n"
   ]
  },
  {
   "cell_type": "code",
   "execution_count": null,
   "metadata": {},
   "outputs": [],
   "source": [
    "# sender\n",
    "port=51234\n",
    "send_hello(ip,port)"
   ]
  },
  {
   "cell_type": "code",
   "execution_count": null,
   "metadata": {},
   "outputs": [],
   "source": [
    "# receive\n",
    "port=51234\n",
    "receive_hello(port)"
   ]
  }
 ],
 "metadata": {
  "kernelspec": {
   "display_name": "base",
   "language": "python",
   "name": "python3"
  },
  "language_info": {
   "codemirror_mode": {
    "name": "ipython",
    "version": 3
   },
   "file_extension": ".py",
   "mimetype": "text/x-python",
   "name": "python",
   "nbconvert_exporter": "python",
   "pygments_lexer": "ipython3",
   "version": "3.9.12"
  },
  "orig_nbformat": 4
 },
 "nbformat": 4,
 "nbformat_minor": 2
}
