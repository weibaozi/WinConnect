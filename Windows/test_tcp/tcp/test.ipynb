{
 "cells": [
  {
   "cell_type": "code",
   "execution_count": 2,
   "metadata": {},
   "outputs": [],
   "source": [
    "import socket"
   ]
  },
  {
   "cell_type": "code",
   "execution_count": 3,
   "metadata": {},
   "outputs": [],
   "source": [
    "PHRASE = 'exit'\n",
    "def receive_console(port):\n",
    "    # Create a socket object\n",
    "    s = socket.socket()\n",
    "\n",
    "    # Bind the socket to a local host and port\n",
    "    s.bind((\"\", port))\n",
    "\n",
    "    # Listen for incoming connections\n",
    "    s.listen(1)\n",
    "\n",
    "\n",
    "    while True:\n",
    "        print('Waiting for a new connection...')\n",
    "        \n",
    "        # Wait for a client to connect\n",
    "        conn, addr = s.accept()\n",
    "        \n",
    "        # Receive data until the client disconnects\n",
    "        with conn:\n",
    "            print(f'Connected by {addr}')\n",
    "            while True:\n",
    "                try:\n",
    "                    data = conn.recv(1024)\n",
    "                    if not data:\n",
    "                        break\n",
    "                    text = data.decode('utf-8')\n",
    "                    print(f'Received: {text}')\n",
    "                    if text.strip() == PHRASE:\n",
    "                        print(f'Received {PHRASE}, closing connection...')\n",
    "                        conn.close()\n",
    "                        break\n",
    "                    ack = \"ACK\".encode()\n",
    "                    conn.send(ack)\n",
    "                except ConnectionResetError:\n",
    "                    print(f'Connection closed by {addr}')\n",
    "                    conn.close()\n",
    "                    print(\"Connection closed exiting.....\")\n",
    "                    return 0"
   ]
  },
  {
   "cell_type": "code",
   "execution_count": 4,
   "metadata": {},
   "outputs": [
    {
     "name": "stdout",
     "output_type": "stream",
     "text": [
      "Waiting for a new connection...\n",
      "Connected by ('127.0.0.1', 60202)\n",
      "Received: 123\n",
      "Waiting for a new connection...\n",
      "Connected by ('127.0.0.1', 60215)\n",
      "Received: 123\n",
      "Waiting for a new connection...\n",
      "Connected by ('127.0.0.1', 60217)\n",
      "Received: 123\n",
      "Waiting for a new connection...\n",
      "Connected by ('127.0.0.1', 60220)\n",
      "Received: 123\n",
      "Waiting for a new connection...\n",
      "Connected by ('127.0.0.1', 60222)\n",
      "Received: 123\n",
      "Waiting for a new connection...\n"
     ]
    }
   ],
   "source": [
    "receive_console(51234)"
   ]
  },
  {
   "cell_type": "code",
   "execution_count": 6,
   "metadata": {},
   "outputs": [],
   "source": [
    "import socket\n",
    "PHRASE = 'exit'\n",
    "def send_console(ip_address, port):\n",
    "    # Create a socket object\n",
    "    s = socket.socket()\n",
    "\n",
    "    # Connect to the IP address and port\n",
    "    s.connect((ip_address, port))\n",
    "\n",
    "    # Send the \"Hello, world!\" string to the receiver\n",
    "    message = \"Hello, world!\".encode()\n",
    "    s.send(message)\n",
    "\n",
    "    # Wait for the acknowledgement from the receiver\n",
    "    while True:\n",
    "        message=input(\"Enter message: \")\n",
    "        s.send(message.encode())\n",
    "        if message.strip() == PHRASE:\n",
    "            print(f'Sent {PHRASE}, closing connection...')\n",
    "            s.close()\n",
    "            break\n",
    "\n",
    "    # Close the socket connection\n",
    "    s.close()"
   ]
  },
  {
   "cell_type": "code",
   "execution_count": 7,
   "metadata": {},
   "outputs": [
    {
     "ename": "KeyboardInterrupt",
     "evalue": "Interrupted by user",
     "output_type": "error",
     "traceback": [
      "\u001b[1;31m---------------------------------------------------------------------------\u001b[0m",
      "\u001b[1;31mKeyboardInterrupt\u001b[0m                         Traceback (most recent call last)",
      "Cell \u001b[1;32mIn[7], line 3\u001b[0m\n\u001b[0;32m      1\u001b[0m port\u001b[39m=\u001b[39m\u001b[39m51234\u001b[39m\n\u001b[0;32m      2\u001b[0m ip_address\u001b[39m=\u001b[39m\u001b[39m'\u001b[39m\u001b[39m127.0.0.1\u001b[39m\u001b[39m'\u001b[39m\n\u001b[1;32m----> 3\u001b[0m send_console(ip_address, port)\n",
      "Cell \u001b[1;32mIn[6], line 16\u001b[0m, in \u001b[0;36msend_console\u001b[1;34m(ip_address, port)\u001b[0m\n\u001b[0;32m     14\u001b[0m \u001b[39m# Wait for the acknowledgement from the receiver\u001b[39;00m\n\u001b[0;32m     15\u001b[0m \u001b[39mwhile\u001b[39;00m \u001b[39mTrue\u001b[39;00m:\n\u001b[1;32m---> 16\u001b[0m     message\u001b[39m=\u001b[39m\u001b[39minput\u001b[39;49m(\u001b[39m\"\u001b[39;49m\u001b[39mEnter message: \u001b[39;49m\u001b[39m\"\u001b[39;49m)\n\u001b[0;32m     17\u001b[0m     s\u001b[39m.\u001b[39msend(message\u001b[39m.\u001b[39mencode())\n\u001b[0;32m     18\u001b[0m     \u001b[39mif\u001b[39;00m message\u001b[39m.\u001b[39mstrip() \u001b[39m==\u001b[39m PHRASE:\n",
      "File \u001b[1;32mc:\\Users\\GJK\\anaconda3\\lib\\site-packages\\ipykernel\\kernelbase.py:1175\u001b[0m, in \u001b[0;36mKernel.raw_input\u001b[1;34m(self, prompt)\u001b[0m\n\u001b[0;32m   1171\u001b[0m \u001b[39mif\u001b[39;00m \u001b[39mnot\u001b[39;00m \u001b[39mself\u001b[39m\u001b[39m.\u001b[39m_allow_stdin:\n\u001b[0;32m   1172\u001b[0m     \u001b[39mraise\u001b[39;00m StdinNotImplementedError(\n\u001b[0;32m   1173\u001b[0m         \u001b[39m\"\u001b[39m\u001b[39mraw_input was called, but this frontend does not support input requests.\u001b[39m\u001b[39m\"\u001b[39m\n\u001b[0;32m   1174\u001b[0m     )\n\u001b[1;32m-> 1175\u001b[0m \u001b[39mreturn\u001b[39;00m \u001b[39mself\u001b[39;49m\u001b[39m.\u001b[39;49m_input_request(\n\u001b[0;32m   1176\u001b[0m     \u001b[39mstr\u001b[39;49m(prompt),\n\u001b[0;32m   1177\u001b[0m     \u001b[39mself\u001b[39;49m\u001b[39m.\u001b[39;49m_parent_ident[\u001b[39m\"\u001b[39;49m\u001b[39mshell\u001b[39;49m\u001b[39m\"\u001b[39;49m],\n\u001b[0;32m   1178\u001b[0m     \u001b[39mself\u001b[39;49m\u001b[39m.\u001b[39;49mget_parent(\u001b[39m\"\u001b[39;49m\u001b[39mshell\u001b[39;49m\u001b[39m\"\u001b[39;49m),\n\u001b[0;32m   1179\u001b[0m     password\u001b[39m=\u001b[39;49m\u001b[39mFalse\u001b[39;49;00m,\n\u001b[0;32m   1180\u001b[0m )\n",
      "File \u001b[1;32mc:\\Users\\GJK\\anaconda3\\lib\\site-packages\\ipykernel\\kernelbase.py:1217\u001b[0m, in \u001b[0;36mKernel._input_request\u001b[1;34m(self, prompt, ident, parent, password)\u001b[0m\n\u001b[0;32m   1214\u001b[0m             \u001b[39mbreak\u001b[39;00m\n\u001b[0;32m   1215\u001b[0m \u001b[39mexcept\u001b[39;00m \u001b[39mKeyboardInterrupt\u001b[39;00m:\n\u001b[0;32m   1216\u001b[0m     \u001b[39m# re-raise KeyboardInterrupt, to truncate traceback\u001b[39;00m\n\u001b[1;32m-> 1217\u001b[0m     \u001b[39mraise\u001b[39;00m \u001b[39mKeyboardInterrupt\u001b[39;00m(\u001b[39m\"\u001b[39m\u001b[39mInterrupted by user\u001b[39m\u001b[39m\"\u001b[39m) \u001b[39mfrom\u001b[39;00m \u001b[39mNone\u001b[39m\n\u001b[0;32m   1218\u001b[0m \u001b[39mexcept\u001b[39;00m \u001b[39mException\u001b[39;00m:\n\u001b[0;32m   1219\u001b[0m     \u001b[39mself\u001b[39m\u001b[39m.\u001b[39mlog\u001b[39m.\u001b[39mwarning(\u001b[39m\"\u001b[39m\u001b[39mInvalid Message:\u001b[39m\u001b[39m\"\u001b[39m, exc_info\u001b[39m=\u001b[39m\u001b[39mTrue\u001b[39;00m)\n",
      "\u001b[1;31mKeyboardInterrupt\u001b[0m: Interrupted by user"
     ]
    }
   ],
   "source": [
    "port=51234\n",
    "ip_address='127.0.0.1'\n",
    "send_console(ip_address, port)"
   ]
  }
 ],
 "metadata": {
  "kernelspec": {
   "display_name": "base",
   "language": "python",
   "name": "python3"
  },
  "language_info": {
   "codemirror_mode": {
    "name": "ipython",
    "version": 3
   },
   "file_extension": ".py",
   "mimetype": "text/x-python",
   "name": "python",
   "nbconvert_exporter": "python",
   "pygments_lexer": "ipython3",
   "version": "3.9.16"
  },
  "orig_nbformat": 4
 },
 "nbformat": 4,
 "nbformat_minor": 2
}
