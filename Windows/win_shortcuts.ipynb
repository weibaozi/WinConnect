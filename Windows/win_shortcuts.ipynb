{
 "cells": [
  {
   "cell_type": "code",
   "execution_count": null,
   "metadata": {},
   "outputs": [],
   "source": [
    "import winapps\n",
    "import subprocess\n",
    "\n",
    "# List all installed applications\n",
    "apps =  winapps.list_installed()\n",
    "\n",
    "for app in apps:\n",
    "    print(app.name)\n",
    "\n",
    "# Start a selected application\n",
    "selected_app = \"Notepad\"\n",
    "\n",
    "try:\n",
    "    #subprocess.Popen(selected_app)\n",
    "    print(f\"{selected_app} started successfully!\")\n",
    "except FileNotFoundError:\n",
    "    print(f\"{selected_app} not found.\")"
   ]
  },
  {
   "attachments": {},
   "cell_type": "markdown",
   "metadata": {},
   "source": [
    "### find all shortcuts in side start menu + appdata start menu\n"
   ]
  },
  {
   "cell_type": "code",
   "execution_count": null,
   "metadata": {},
   "outputs": [],
   "source": [
    "import os\n",
    "import glob\n",
    "\n",
    "app_menu = os.path.join(os.environ[\"APPDATA\"], \"Microsoft\", \"Windows\", \"Start Menu\", \"Programs\")\n",
    "folder_pattern = os.path.join(app_menu, \"**\")\n",
    "menu = r\"C:\\ProgramData\\Microsoft\\Windows\\Start Menu\\Programs\"\n",
    "paths=[app_menu, menu]\n",
    "folders=[]\n",
    "for path in paths:\n",
    "    folder_pattern = os.path.join(path, \"**\")\n",
    "    folders += [f for f in glob.glob(folder_pattern, recursive=True) if os.path.isdir(f)]\n",
    "    folders += [path]\n",
    "#print(folder_pattern)\n",
    "\n",
    "\n",
    "# Find all shortcut files in subfolders of each folder\n",
    "shortcut_pattern = os.path.join(\"{}*\", \"*.lnk\")\n",
    "shortcut_files = []\n",
    "for folder in folders:\n",
    "    shortcut_files += glob.glob(shortcut_pattern.format(folder), recursive=True)\n",
    "\n",
    "# Print the list of shortcut files\n",
    "for shortcut_file in shortcut_files:\n",
    "    print(shortcut_file)\n",
    "    pass\n"
   ]
  },
  {
   "cell_type": "code",
   "execution_count": null,
   "metadata": {},
   "outputs": [],
   "source": [
    "import subprocess\n",
    "keyword = \"notepad\"\n",
    "for shortcut_file in shortcut_files:\n",
    "    if keyword in shortcut_file.lower():\n",
    "        #subprocess.Popen(shortcut_file)\n",
    "        print(shortcut_file)\n",
    "        path = r\"\" + shortcut_file\n",
    "        os.startfile(shortcut_file)\n",
    "        pass"
   ]
  }
 ],
 "metadata": {
  "kernelspec": {
   "display_name": "base",
   "language": "python",
   "name": "python3"
  },
  "language_info": {
   "codemirror_mode": {
    "name": "ipython",
    "version": 3
   },
   "file_extension": ".py",
   "mimetype": "text/x-python",
   "name": "python",
   "nbconvert_exporter": "python",
   "pygments_lexer": "ipython3",
   "version": "3.10.5"
  },
  "orig_nbformat": 4
 },
 "nbformat": 4,
 "nbformat_minor": 2
}
