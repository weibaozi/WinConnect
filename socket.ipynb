{
 "cells": [
  {
   "cell_type": "code",
   "execution_count": 10,
   "metadata": {},
   "outputs": [
    {
     "name": "stdout",
     "output_type": "stream",
     "text": [
      "Hostname: GJK-X13\n"
     ]
    }
   ],
   "source": [
    "import socket\n",
    "\n",
    "hostname = socket.gethostname()\n",
    "print(\"Hostname:\", hostname)"
   ]
  },
  {
   "cell_type": "code",
   "execution_count": 3,
   "metadata": {},
   "outputs": [],
   "source": [
    "import socket\n",
    "\n",
    "def send_hello(ip_address, port):\n",
    "    # Create a socket object\n",
    "    s = socket.socket()\n",
    "\n",
    "    # Connect to the IP address and port\n",
    "    s.connect((ip_address, port))\n",
    "\n",
    "    # Send the \"Hello, world!\" string to the receiver\n",
    "    message = \"Hello, world!\".encode()\n",
    "    s.send(message)\n",
    "\n",
    "    # Wait for the acknowledgement from the receiver\n",
    "    ack = s.recv(1024)\n",
    "\n",
    "    # Close the socket connection\n",
    "    s.close()\n"
   ]
  },
  {
   "cell_type": "code",
   "execution_count": 6,
   "metadata": {},
   "outputs": [],
   "source": [
    "ip_address=\"169.233.250.159\"\n",
    "port=51234\n",
    "send_hello(ip_address,port)"
   ]
  },
  {
   "cell_type": "code",
   "execution_count": 13,
   "metadata": {},
   "outputs": [],
   "source": [
    "import subprocess\n",
    "\n",
    "def get_ip_from_mac(mac_address):\n",
    "    # Run the arp command to query the ARP cache\n",
    "    arp_output = subprocess.check_output([\"arp\", \"-a\"])\n",
    "\n",
    "    # Try decoding the output using different encodings\n",
    "    encodings = [\"utf-8\", \"latin-1\", \"iso-8859-1\"]\n",
    "    for encoding in encodings:\n",
    "        try:\n",
    "            arp_output = arp_output.decode(encoding)\n",
    "            break\n",
    "        except UnicodeDecodeError:\n",
    "            pass\n",
    "\n",
    "    # Search for the MAC address in the output\n",
    "    if mac_address in arp_output:\n",
    "        # Extract the IP address from the output\n",
    "        ip_address = arp_output.split(mac_address)[1].split()[0]\n",
    "        return ip_address\n",
    "    else:\n",
    "        return None\n"
   ]
  },
  {
   "cell_type": "code",
   "execution_count": 16,
   "metadata": {},
   "outputs": [
    {
     "name": "stdout",
     "output_type": "stream",
     "text": [
      "None\n"
     ]
    }
   ],
   "source": [
    "ip=get_ip_from_mac(\"8c:85:90:56:c9:61\")\n",
    "print(ip)"
   ]
  }
 ],
 "metadata": {
  "kernelspec": {
   "display_name": "base",
   "language": "python",
   "name": "python3"
  },
  "language_info": {
   "codemirror_mode": {
    "name": "ipython",
    "version": 3
   },
   "file_extension": ".py",
   "mimetype": "text/x-python",
   "name": "python",
   "nbconvert_exporter": "python",
   "pygments_lexer": "ipython3",
   "version": "3.9.12"
  },
  "orig_nbformat": 4
 },
 "nbformat": 4,
 "nbformat_minor": 2
}
