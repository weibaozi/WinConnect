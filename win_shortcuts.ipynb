{
 "cells": [
  {
   "cell_type": "code",
   "execution_count": 35,
   "metadata": {},
   "outputs": [
    {
     "name": "stdout",
     "output_type": "stream",
     "text": [
      "Windows 驱动程序包 - Cypress USBDevice  (07/25/2018 1.1)\n",
      "Windows 驱动程序包 - Cypress (usbser) Ports  (06/12/2018 2.0.0000.4)\n",
      "Windows 驱动程序包 - Cypress Semiconductor Corporation CDM Driver Package - VCP Driver (09/24/2020 7.0.0.1)\n",
      "Windows 驱动程序包 - Cypress Semiconductor Corporation CDM Driver Package - Bus/D2XX Driver (09/24/2020 7.0.0.1)\n",
      "Windows 驱动程序包 - Cypress (usbser) Ports  (06/12/2018 1.9.0000.0)\n",
      "Windows 驱动程序包 - libusbK WICED USB JTAG Port (04/28/2014 3.0.7.0)\n",
      "Windows 驱动程序包 - Cypress (CypressSerial) USB  (01/17/2018 3.13.0.84)\n",
      "Windows 驱动程序包 - Cypress USBDevice  (07/25/2018 1.1)\n",
      "Clash for Windows 0.18.7\n",
      "Air Live Drive\n",
      "AMD Software\n",
      "Bandizip\n",
      "Windows 驱动程序包 - Cypress (CypressSerial) Ports  (01/17/2018 3.13.0.84)\n",
      "Windows 驱动程序包 - Cypress (usbser) Ports  (09/11/2017 2.0.0000.2)\n",
      "Git\n",
      "Magic Bullet Suite\n",
      "Maxon Cinema 4D 25\n",
      "Notepad++ (64-bit x64)\n",
      "Microsoft 365 企业应用版 - zh-cn\n",
      "Microsoft OneDrive\n",
      "RaiDrive\n",
      "StartAllBack\n",
      "Age of Empires IV\n",
      "Xilinx Design Tools Vivado HL WebPACK 2019.1 (D:\\Xilinx)\n",
      "Xilinx Information Center (D:\\Xilinx)\n",
      "ARMOURY CRATE Service\n",
      "ASUS Hotplug Controller\n",
      "Microsoft Visual C++ 2010  x64 Redistributable - 10.0.40219\n",
      "AI Noise Cancelation Audio Software SDK\n",
      "VNC Viewer 7.0.1\n",
      "ROG Live Service\n",
      "Logitech G HUB\n",
      "Microsoft Visual C++ 2008 Redistributable - x64 9.0.30729.6161\n",
      "Bonjour\n",
      "Microsoft Visual Studio Installer\n",
      "Java(TM) SE Development Kit 19 (64-bit)\n",
      "Node.js\n",
      "Adobe Acrobat (64-bit)\n",
      "NVIDIA 图形驱动程序 512.78\n",
      "NVIDIA GeForce Experience 3.24.0.135\n",
      "NVIDIA PhysX 系统软件 9.21.0713\n",
      "NVIDIA FrameView SDK 1.2.7704.31296923\n",
      "AURA lighting effect add-on x64\n",
      "PuTTY release 0.77 (64-bit)\n",
      "Microsoft Update Health Tools\n",
      "Adobe Creative Cloud\n",
      "Adobe After Effects 2022\n",
      "AMD Chipset Software\n",
      "Adobe Media Encoder 2022\n",
      "Visual Studio 生成工具 2019\n",
      "Digilent Software\n",
      "Google Chrome\n",
      "Microsoft Edge\n",
      "Microsoft Edge Update\n",
      "Microsoft Edge WebView2 Runtime\n",
      "OBS Studio\n",
      "Parsec\n",
      "Adobe Photoshop 2022\n",
      "Adobe Premiere Pro 2022\n",
      "Xilinx ECM driver v2.51.0.0\n",
      "Steam\n",
      "UXP WebView Support\n",
      "微信\n",
      "GameSDK Service\n",
      "Microsoft Visual C++ 2013 Redistributable (x64) - 12.0.40664\n",
      "Python Launcher\n",
      "AURA lighting effect add-on\n",
      "Microsoft GameInput\n",
      "ASUS Framework Service\n",
      "Microsoft Visual C++ 2012 Redistributable (x86) - 11.0.61030\n",
      "Windows Software Development Kit - Windows 10.0.19041.685\n",
      "Microsoft .NET Runtime - 6.0.8 (x86)\n",
      "Microsoft Visual C++ 2015-2022 Redistributable (x86) - 14.34.31938\n",
      "Dokan Library 2.0.3.1000 Bundle\n",
      "AURA Service\n",
      "Teams Machine-Wide Installer\n",
      "ASUS Smart Display Control\n",
      "Microsoft Visual C++ 2008 Redistributable - x86 9.0.30729.6161\n",
      "Microsoft Visual C++ 2013 Redistributable (x86) - 12.0.40664\n",
      "AI Noise Cancelation Audio Software\n",
      "Microsoft Windows Desktop Runtime - 6.0.8 (x64)\n",
      "Microsoft Visual C++ 2012 Redistributable (x64) - 11.0.61030\n",
      "Microsoft Windows Desktop Runtime - 5.0.14 (x64)\n",
      "Microsoft Visual C++ 2015-2022 Redistributable (x64) - 14.34.31938\n",
      "Windows SDK AddOn\n",
      "Microsoft Visual C++ 2010  x86 Redistributable - 10.0.40219\n",
      "Intel(R) C++ Redistributables on Intel(R) 64\n",
      "Notepad started successfully!\n"
     ]
    }
   ],
   "source": [
    "import winapps\n",
    "import subprocess\n",
    "\n",
    "# List all installed applications\n",
    "apps =  .list_installed()\n",
    "\n",
    "for app in apps:\n",
    "    print(app.name)\n",
    "\n",
    "# Start a selected application\n",
    "selected_app = \"Notepad\"\n",
    "\n",
    "try:\n",
    "    #subprocess.Popen(selected_app)\n",
    "    print(f\"{selected_app} started successfully!\")\n",
    "except FileNotFoundError:\n",
    "    print(f\"{selected_app} not found.\")"
   ]
  },
  {
   "attachments": {},
   "cell_type": "markdown",
   "metadata": {},
   "source": [
    "### find all shortcuts in side start menu + appdata start menu\n"
   ]
  },
  {
   "cell_type": "code",
   "execution_count": null,
   "metadata": {},
   "outputs": [],
   "source": [
    "import os\n",
    "import glob\n",
    "\n",
    "app_menu = os.path.join(os.environ[\"APPDATA\"], \"Microsoft\", \"Windows\", \"Start Menu\", \"Programs\")\n",
    "folder_pattern = os.path.join(app_menu, \"**\")\n",
    "menu = r\"C:\\ProgramData\\Microsoft\\Windows\\Start Menu\\Programs\"\n",
    "paths=[app_menu, menu]\n",
    "folders=[]\n",
    "for path in paths:\n",
    "    folder_pattern = os.path.join(path, \"**\")\n",
    "    folders += [f for f in glob.glob(folder_pattern, recursive=True) if os.path.isdir(f)]\n",
    "    folders += [path]\n",
    "#print(folder_pattern)\n",
    "\n",
    "\n",
    "# Find all shortcut files in subfolders of each folder\n",
    "shortcut_pattern = os.path.join(\"{}*\", \"*.lnk\")\n",
    "shortcut_files = []\n",
    "for folder in folders:\n",
    "    shortcut_files += glob.glob(shortcut_pattern.format(folder), recursive=True)\n",
    "\n",
    "# Print the list of shortcut files\n",
    "for shortcut_file in shortcut_files:\n",
    "    print(shortcut_file)\n",
    "    pass\n"
   ]
  },
  {
   "cell_type": "code",
   "execution_count": 37,
   "metadata": {},
   "outputs": [
    {
     "name": "stdout",
     "output_type": "stream",
     "text": [
      "C:\\ProgramData\\Microsoft\\Windows\\Start Menu\\Programs\\Google Chrome.lnk\n"
     ]
    },
    {
     "ename": "OSError",
     "evalue": "[WinError 193] %1 不是有效的 Win32 应用程序。",
     "output_type": "error",
     "traceback": [
      "\u001b[1;31m---------------------------------------------------------------------------\u001b[0m",
      "\u001b[1;31mOSError\u001b[0m                                   Traceback (most recent call last)",
      "\u001b[1;32mc:\\Users\\guo36\\Desktop\\cse115\\test.ipynb Cell 4\u001b[0m in \u001b[0;36m<cell line: 3>\u001b[1;34m()\u001b[0m\n\u001b[0;32m      <a href='vscode-notebook-cell:/c%3A/Users/guo36/Desktop/cse115/test.ipynb#W4sZmlsZQ%3D%3D?line=3'>4</a>\u001b[0m \u001b[39mif\u001b[39;00m keyword \u001b[39min\u001b[39;00m shortcut_file\u001b[39m.\u001b[39mlower():\n\u001b[0;32m      <a href='vscode-notebook-cell:/c%3A/Users/guo36/Desktop/cse115/test.ipynb#W4sZmlsZQ%3D%3D?line=4'>5</a>\u001b[0m     \u001b[39m#subprocess.Popen(shortcut_file)\u001b[39;00m\n\u001b[0;32m      <a href='vscode-notebook-cell:/c%3A/Users/guo36/Desktop/cse115/test.ipynb#W4sZmlsZQ%3D%3D?line=5'>6</a>\u001b[0m     \u001b[39mprint\u001b[39m(shortcut_file)\n\u001b[1;32m----> <a href='vscode-notebook-cell:/c%3A/Users/guo36/Desktop/cse115/test.ipynb#W4sZmlsZQ%3D%3D?line=6'>7</a>\u001b[0m     subprocess\u001b[39m.\u001b[39;49mPopen(shortcut_file)\n\u001b[0;32m      <a href='vscode-notebook-cell:/c%3A/Users/guo36/Desktop/cse115/test.ipynb#W4sZmlsZQ%3D%3D?line=7'>8</a>\u001b[0m     \u001b[39mpass\u001b[39;00m\n",
      "File \u001b[1;32md:\\Anaconda\\lib\\subprocess.py:951\u001b[0m, in \u001b[0;36mPopen.__init__\u001b[1;34m(self, args, bufsize, executable, stdin, stdout, stderr, preexec_fn, close_fds, shell, cwd, env, universal_newlines, startupinfo, creationflags, restore_signals, start_new_session, pass_fds, user, group, extra_groups, encoding, errors, text, umask)\u001b[0m\n\u001b[0;32m    947\u001b[0m         \u001b[39mif\u001b[39;00m \u001b[39mself\u001b[39m\u001b[39m.\u001b[39mtext_mode:\n\u001b[0;32m    948\u001b[0m             \u001b[39mself\u001b[39m\u001b[39m.\u001b[39mstderr \u001b[39m=\u001b[39m io\u001b[39m.\u001b[39mTextIOWrapper(\u001b[39mself\u001b[39m\u001b[39m.\u001b[39mstderr,\n\u001b[0;32m    949\u001b[0m                     encoding\u001b[39m=\u001b[39mencoding, errors\u001b[39m=\u001b[39merrors)\n\u001b[1;32m--> 951\u001b[0m     \u001b[39mself\u001b[39;49m\u001b[39m.\u001b[39;49m_execute_child(args, executable, preexec_fn, close_fds,\n\u001b[0;32m    952\u001b[0m                         pass_fds, cwd, env,\n\u001b[0;32m    953\u001b[0m                         startupinfo, creationflags, shell,\n\u001b[0;32m    954\u001b[0m                         p2cread, p2cwrite,\n\u001b[0;32m    955\u001b[0m                         c2pread, c2pwrite,\n\u001b[0;32m    956\u001b[0m                         errread, errwrite,\n\u001b[0;32m    957\u001b[0m                         restore_signals,\n\u001b[0;32m    958\u001b[0m                         gid, gids, uid, umask,\n\u001b[0;32m    959\u001b[0m                         start_new_session)\n\u001b[0;32m    960\u001b[0m \u001b[39mexcept\u001b[39;00m:\n\u001b[0;32m    961\u001b[0m     \u001b[39m# Cleanup if the child failed starting.\u001b[39;00m\n\u001b[0;32m    962\u001b[0m     \u001b[39mfor\u001b[39;00m f \u001b[39min\u001b[39;00m \u001b[39mfilter\u001b[39m(\u001b[39mNone\u001b[39;00m, (\u001b[39mself\u001b[39m\u001b[39m.\u001b[39mstdin, \u001b[39mself\u001b[39m\u001b[39m.\u001b[39mstdout, \u001b[39mself\u001b[39m\u001b[39m.\u001b[39mstderr)):\n",
      "File \u001b[1;32md:\\Anaconda\\lib\\subprocess.py:1420\u001b[0m, in \u001b[0;36mPopen._execute_child\u001b[1;34m(self, args, executable, preexec_fn, close_fds, pass_fds, cwd, env, startupinfo, creationflags, shell, p2cread, p2cwrite, c2pread, c2pwrite, errread, errwrite, unused_restore_signals, unused_gid, unused_gids, unused_uid, unused_umask, unused_start_new_session)\u001b[0m\n\u001b[0;32m   1418\u001b[0m \u001b[39m# Start the process\u001b[39;00m\n\u001b[0;32m   1419\u001b[0m \u001b[39mtry\u001b[39;00m:\n\u001b[1;32m-> 1420\u001b[0m     hp, ht, pid, tid \u001b[39m=\u001b[39m _winapi\u001b[39m.\u001b[39;49mCreateProcess(executable, args,\n\u001b[0;32m   1421\u001b[0m                              \u001b[39m# no special security\u001b[39;49;00m\n\u001b[0;32m   1422\u001b[0m                              \u001b[39mNone\u001b[39;49;00m, \u001b[39mNone\u001b[39;49;00m,\n\u001b[0;32m   1423\u001b[0m                              \u001b[39mint\u001b[39;49m(\u001b[39mnot\u001b[39;49;00m close_fds),\n\u001b[0;32m   1424\u001b[0m                              creationflags,\n\u001b[0;32m   1425\u001b[0m                              env,\n\u001b[0;32m   1426\u001b[0m                              cwd,\n\u001b[0;32m   1427\u001b[0m                              startupinfo)\n\u001b[0;32m   1428\u001b[0m \u001b[39mfinally\u001b[39;00m:\n\u001b[0;32m   1429\u001b[0m     \u001b[39m# Child is launched. Close the parent's copy of those pipe\u001b[39;00m\n\u001b[0;32m   1430\u001b[0m     \u001b[39m# handles that only the child should have open.  You need\u001b[39;00m\n\u001b[1;32m   (...)\u001b[0m\n\u001b[0;32m   1433\u001b[0m     \u001b[39m# pipe will not close when the child process exits and the\u001b[39;00m\n\u001b[0;32m   1434\u001b[0m     \u001b[39m# ReadFile will hang.\u001b[39;00m\n\u001b[0;32m   1435\u001b[0m     \u001b[39mself\u001b[39m\u001b[39m.\u001b[39m_close_pipe_fds(p2cread, p2cwrite,\n\u001b[0;32m   1436\u001b[0m                          c2pread, c2pwrite,\n\u001b[0;32m   1437\u001b[0m                          errread, errwrite)\n",
      "\u001b[1;31mOSError\u001b[0m: [WinError 193] %1 不是有效的 Win32 应用程序。"
     ]
    }
   ],
   "source": [
    "import subprocess\n",
    "keyword = \"chrome\"\n",
    "for shortcut_file in shortcut_files:\n",
    "    if keyword in shortcut_file.lower():\n",
    "        #subprocess.Popen(shortcut_file)\n",
    "        print(shortcut_file)\n",
    "        subprocess.Popen(shortcut_file)\n",
    "        pass"
   ]
  }
 ],
 "metadata": {
  "kernelspec": {
   "display_name": "base",
   "language": "python",
   "name": "python3"
  },
  "language_info": {
   "codemirror_mode": {
    "name": "ipython",
    "version": 3
   },
   "file_extension": ".py",
   "mimetype": "text/x-python",
   "name": "python",
   "nbconvert_exporter": "python",
   "pygments_lexer": "ipython3",
   "version": "3.9.12"
  },
  "orig_nbformat": 4
 },
 "nbformat": 4,
 "nbformat_minor": 2
}
